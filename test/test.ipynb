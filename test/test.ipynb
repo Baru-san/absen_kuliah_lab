{
 "cells": [
  {
   "cell_type": "code",
   "execution_count": 3,
   "metadata": {},
   "outputs": [],
   "source": [
    "from Bio.Blast import NCBIWWW\n",
    "hasil_blast = NCBIWWW.qblast('blastn', 'nt', 'OR506168.1')\n",
    "\n",
    "with open('blast_jagung_isolate.xml', 'w+') as save_to:\n",
    "  save_to.write(hasil_blast.read())\n",
    "  hasil_blast.close()"
   ]
  }
 ],
 "metadata": {
  "kernelspec": {
   "display_name": "base",
   "language": "python",
   "name": "python3"
  },
  "language_info": {
   "codemirror_mode": {
    "name": "ipython",
    "version": 3
   },
   "file_extension": ".py",
   "mimetype": "text/x-python",
   "name": "python",
   "nbconvert_exporter": "python",
   "pygments_lexer": "ipython3",
   "version": "3.11.4"
  }
 },
 "nbformat": 4,
 "nbformat_minor": 2
}
